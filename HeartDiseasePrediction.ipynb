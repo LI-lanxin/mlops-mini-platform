{
 "cells": [
  {
   "cell_type": "markdown",
   "metadata": {},
   "source": [
    "# Predict a possible heart disease"
   ]
  },
  {
   "cell_type": "code",
   "execution_count": 1,
   "metadata": {},
   "outputs": [],
   "source": [
    "# Import necessary libraries\n",
    "import pandas as pd\n",
    "import numpy as np\n",
    "from sklearn.model_selection import train_test_split, GridSearchCV, cross_val_score\n",
    "from sklearn.preprocessing import StandardScaler, OneHotEncoder\n",
    "from sklearn.pipeline import Pipeline, make_pipeline\n",
    "from sklearn.compose import ColumnTransformer\n",
    "from sklearn.impute import SimpleImputer\n",
    "from sklearn.svm import SVC\n",
    "from sklearn.metrics import recall_score, roc_auc_score, f1_score, accuracy_score, precision_score, classification_report, make_scorer\n",
    "from sklearn.metrics import classification_report\n",
    "from sklearn.metrics import log_loss "
   ]
  },
  {
   "cell_type": "markdown",
   "metadata": {},
   "source": [
    "## Load The Dataset"
   ]
  },
  {
   "cell_type": "code",
   "execution_count": 2,
   "metadata": {},
   "outputs": [],
   "source": [
    "# Load The Dataset\n",
    "data = pd.read_csv(r\"D:\\ML_Project\\heart.csv\")"
   ]
  },
  {
   "cell_type": "code",
   "execution_count": 3,
   "metadata": {},
   "outputs": [
    {
     "name": "stdout",
     "output_type": "stream",
     "text": [
      "   Age Sex ChestPainType  RestingBP  Cholesterol  FastingBS RestingECG  MaxHR  \\\n",
      "0   40   M           ATA        140          289          0     Normal    172   \n",
      "1   49   F           NAP        160          180          0     Normal    156   \n",
      "2   37   M           ATA        130          283          0         ST     98   \n",
      "3   48   F           ASY        138          214          0     Normal    108   \n",
      "4   54   M           NAP        150          195          0     Normal    122   \n",
      "\n",
      "  ExerciseAngina  Oldpeak ST_Slope  HeartDisease  \n",
      "0              N      0.0       Up             0  \n",
      "1              N      1.0     Flat             1  \n",
      "2              N      0.0       Up             0  \n",
      "3              Y      1.5     Flat             1  \n",
      "4              N      0.0       Up             0  \n"
     ]
    }
   ],
   "source": [
    "# Basic Data Overview\n",
    "print(data.head())"
   ]
  },
  {
   "cell_type": "code",
   "execution_count": 4,
   "metadata": {},
   "outputs": [
    {
     "name": "stdout",
     "output_type": "stream",
     "text": [
      "Missing values:\n",
      " Age               0\n",
      "Sex               0\n",
      "ChestPainType     0\n",
      "RestingBP         0\n",
      "Cholesterol       0\n",
      "FastingBS         0\n",
      "RestingECG        0\n",
      "MaxHR             0\n",
      "ExerciseAngina    0\n",
      "Oldpeak           0\n",
      "ST_Slope          0\n",
      "HeartDisease      0\n",
      "dtype: int64\n"
     ]
    }
   ],
   "source": [
    "# Checking for missing values\n",
    "print(\"Missing values:\\n\", data.isnull().sum())"
   ]
  },
  {
   "cell_type": "code",
   "execution_count": 5,
   "metadata": {},
   "outputs": [
    {
     "name": "stdout",
     "output_type": "stream",
     "text": [
      "0\n"
     ]
    }
   ],
   "source": [
    "# Check for duplicate data\n",
    "print(data.duplicated().sum())"
   ]
  },
  {
   "cell_type": "code",
   "execution_count": 6,
   "metadata": {},
   "outputs": [
    {
     "name": "stdout",
     "output_type": "stream",
     "text": [
      "<class 'pandas.core.frame.DataFrame'>\n",
      "RangeIndex: 918 entries, 0 to 917\n",
      "Data columns (total 12 columns):\n",
      " #   Column          Non-Null Count  Dtype  \n",
      "---  ------          --------------  -----  \n",
      " 0   Age             918 non-null    int64  \n",
      " 1   Sex             918 non-null    object \n",
      " 2   ChestPainType   918 non-null    object \n",
      " 3   RestingBP       918 non-null    int64  \n",
      " 4   Cholesterol     918 non-null    int64  \n",
      " 5   FastingBS       918 non-null    int64  \n",
      " 6   RestingECG      918 non-null    object \n",
      " 7   MaxHR           918 non-null    int64  \n",
      " 8   ExerciseAngina  918 non-null    object \n",
      " 9   Oldpeak         918 non-null    float64\n",
      " 10  ST_Slope        918 non-null    object \n",
      " 11  HeartDisease    918 non-null    int64  \n",
      "dtypes: float64(1), int64(6), object(5)\n",
      "memory usage: 86.2+ KB\n",
      "None\n"
     ]
    }
   ],
   "source": [
    "# View basic information\n",
    "print(data.info())"
   ]
  },
  {
   "cell_type": "markdown",
   "metadata": {},
   "source": [
    "## Feature Engineering"
   ]
  },
  {
   "cell_type": "code",
   "execution_count": 7,
   "metadata": {},
   "outputs": [],
   "source": [
    "# Define categorical and numerical columns\n",
    "categorical_cols = ['Sex', 'ChestPainType', 'FastingBS', 'RestingECG', 'ExerciseAngina', 'ST_Slope']\n",
    "numerical_cols = ['Age', 'RestingBP', 'Cholesterol', 'MaxHR', 'Oldpeak']"
   ]
  },
  {
   "cell_type": "code",
   "execution_count": 8,
   "metadata": {},
   "outputs": [],
   "source": [
    "# Convert FastingBS to string (categorical type)\n",
    "data['FastingBS'] = data['FastingBS'].astype(str)"
   ]
  },
  {
   "cell_type": "code",
   "execution_count": 9,
   "metadata": {},
   "outputs": [
    {
     "name": "stdout",
     "output_type": "stream",
     "text": [
      "object\n"
     ]
    }
   ],
   "source": [
    "# Verify the change\n",
    "print(data['FastingBS'].dtypes)"
   ]
  },
  {
   "cell_type": "code",
   "execution_count": 10,
   "metadata": {},
   "outputs": [],
   "source": [
    "# Initialize the OneHotEncoder\n",
    "encoder = OneHotEncoder(handle_unknown='ignore', sparse_output=False)\n",
    "\n",
    "# Apply one-hot encoding to the categorical columns\n",
    "encoded_categorical = encoder.fit_transform(data[categorical_cols])\n",
    "\n",
    "# Create a DataFrame with the encoded features\n",
    "encoded_df = pd.DataFrame(encoded_categorical, columns=encoder.get_feature_names_out(categorical_cols), index=data.index)\n",
    "\n",
    "# Drop the original categorical columns from the dataset\n",
    "data.drop(columns=categorical_cols, inplace=True)\n",
    "\n",
    "# Combine the encoded features with the original dataset\n",
    "data = pd.concat([data, encoded_df], axis=1)"
   ]
  },
  {
   "cell_type": "code",
   "execution_count": 11,
   "metadata": {},
   "outputs": [
    {
     "name": "stdout",
     "output_type": "stream",
     "text": [
      "Feature List: ['Age', 'RestingBP', 'Cholesterol', 'MaxHR', 'Oldpeak', 'Sex_F', 'Sex_M', 'ChestPainType_ASY', 'ChestPainType_ATA', 'ChestPainType_NAP', 'ChestPainType_TA', 'FastingBS_0', 'FastingBS_1', 'RestingECG_LVH', 'RestingECG_Normal', 'RestingECG_ST', 'ExerciseAngina_N', 'ExerciseAngina_Y', 'ST_Slope_Down', 'ST_Slope_Flat', 'ST_Slope_Up']\n"
     ]
    }
   ],
   "source": [
    "# Drop the target variable 'HeartDisease' and create a feature list\n",
    "feature_list = data.drop(columns=['HeartDisease']).columns.tolist()\n",
    "\n",
    "# Print the feature list\n",
    "print(\"Feature List:\", feature_list)"
   ]
  },
  {
   "cell_type": "code",
   "execution_count": 12,
   "metadata": {},
   "outputs": [],
   "source": [
    "# Initialize the standardization tool\n",
    "scaler = StandardScaler()\n",
    "\n",
    "# Standardize the numerical features\n",
    "data[numerical_cols] = scaler.fit_transform(data[numerical_cols])\n"
   ]
  },
  {
   "cell_type": "code",
   "execution_count": 13,
   "metadata": {},
   "outputs": [
    {
     "name": "stdout",
     "output_type": "stream",
     "text": [
      "\n",
      "Numerical columns mean and standard deviation after scaling:\n",
      "Means (should be approximately 0):\n",
      "Age           -1.083616e-16\n",
      "RestingBP      1.954380e-16\n",
      "Cholesterol    0.000000e+00\n",
      "MaxHR          4.953675e-16\n",
      "Oldpeak        1.238419e-16\n",
      "dtype: float64\n",
      "\n",
      "Standard deviations (should be approximately 1):\n",
      "Age            1.000545\n",
      "RestingBP      1.000545\n",
      "Cholesterol    1.000545\n",
      "MaxHR          1.000545\n",
      "Oldpeak        1.000545\n",
      "dtype: float64\n"
     ]
    }
   ],
   "source": [
    "# Verify the results of standardization\n",
    "print(\"\\nNumerical columns mean and standard deviation after scaling:\")\n",
    "print(\"Means (should be approximately 0):\")\n",
    "print(data[numerical_cols].mean())\n",
    "print(\"\\nStandard deviations (should be approximately 1):\")\n",
    "print(data[numerical_cols].std())\n"
   ]
  },
  {
   "cell_type": "code",
   "execution_count": 14,
   "metadata": {},
   "outputs": [
    {
     "name": "stdout",
     "output_type": "stream",
     "text": [
      "Final Feature List:\n",
      "['Age', 'RestingBP', 'Cholesterol', 'MaxHR', 'Oldpeak', 'Sex_F', 'Sex_M', 'ChestPainType_ASY', 'ChestPainType_ATA', 'ChestPainType_NAP', 'ChestPainType_TA', 'FastingBS_0', 'FastingBS_1', 'RestingECG_LVH', 'RestingECG_Normal', 'RestingECG_ST', 'ExerciseAngina_N', 'ExerciseAngina_Y', 'ST_Slope_Down', 'ST_Slope_Flat', 'ST_Slope_Up']\n",
      "Processed Training Data:\n",
      "        Age  RestingBP  Cholesterol     MaxHR   Oldpeak  HeartDisease  Sex_F  \\\n",
      "0 -1.433140   0.410909     0.825070  1.382928 -0.832432             0    0.0   \n",
      "1 -0.478484   1.491752    -0.171961  0.754157  0.105664             1    1.0   \n",
      "2 -1.751359  -0.129513     0.770188 -1.525138 -0.832432             0    0.0   \n",
      "3 -0.584556   0.302825     0.139040 -1.132156  0.574711             1    1.0   \n",
      "4  0.051881   0.951331    -0.034755 -0.581981 -0.832432             0    0.0   \n",
      "\n",
      "   Sex_M  ChestPainType_ASY  ChestPainType_ATA  ...  FastingBS_0  FastingBS_1  \\\n",
      "0    1.0                0.0                1.0  ...          1.0          0.0   \n",
      "1    0.0                0.0                0.0  ...          1.0          0.0   \n",
      "2    1.0                0.0                1.0  ...          1.0          0.0   \n",
      "3    0.0                1.0                0.0  ...          1.0          0.0   \n",
      "4    1.0                0.0                0.0  ...          1.0          0.0   \n",
      "\n",
      "   RestingECG_LVH  RestingECG_Normal  RestingECG_ST  ExerciseAngina_N  \\\n",
      "0             0.0                1.0            0.0               1.0   \n",
      "1             0.0                1.0            0.0               1.0   \n",
      "2             0.0                0.0            1.0               1.0   \n",
      "3             0.0                1.0            0.0               0.0   \n",
      "4             0.0                1.0            0.0               1.0   \n",
      "\n",
      "   ExerciseAngina_Y  ST_Slope_Down  ST_Slope_Flat  ST_Slope_Up  \n",
      "0               0.0            0.0            0.0          1.0  \n",
      "1               0.0            0.0            1.0          0.0  \n",
      "2               0.0            0.0            0.0          1.0  \n",
      "3               1.0            0.0            1.0          0.0  \n",
      "4               0.0            0.0            0.0          1.0  \n",
      "\n",
      "[5 rows x 22 columns]\n"
     ]
    }
   ],
   "source": [
    "# Final feature list\n",
    "print(\"Final Feature List:\")\n",
    "print(feature_list)\n",
    "# Display the first few rows of the processed data\n",
    "print(\"Processed Training Data:\")\n",
    "print(data.head())"
   ]
  },
  {
   "cell_type": "markdown",
   "metadata": {},
   "source": [
    "## RandomForest Model"
   ]
  },
  {
   "cell_type": "code",
   "execution_count": 15,
   "metadata": {},
   "outputs": [],
   "source": [
    "# Separate the target variable and features\n",
    "X = data[feature_list]  # Select feature columns based on feature_list\n",
    "y = data['HeartDisease']"
   ]
  },
  {
   "cell_type": "code",
   "execution_count": 16,
   "metadata": {},
   "outputs": [],
   "source": [
    "# Split the dataset into training and testing sets\n",
    "X_train, X_test, y_train, y_test = train_test_split(X, y, test_size=0.2, random_state=42, stratify=y)"
   ]
  },
  {
   "cell_type": "code",
   "execution_count": 17,
   "metadata": {},
   "outputs": [
    {
     "name": "stdout",
     "output_type": "stream",
     "text": [
      "Classification Report:\n",
      "              precision    recall  f1-score   support\n",
      "\n",
      "           0       0.92      0.85      0.89        82\n",
      "           1       0.89      0.94      0.91       102\n",
      "\n",
      "    accuracy                           0.90       184\n",
      "   macro avg       0.90      0.90      0.90       184\n",
      "weighted avg       0.90      0.90      0.90       184\n",
      "\n",
      "\n",
      "Comprehensive Metrics:\n",
      "Accuracy: 0.9022\n",
      "Precision: 0.8889\n",
      "Recall: 0.9412\n",
      "F1 Score: 0.9143\n",
      "ROC-AUC: 0.9307\n"
     ]
    }
   ],
   "source": [
    "from sklearn.ensemble import RandomForestClassifier\n",
    "from sklearn.metrics import classification_report, accuracy_score, precision_score, recall_score, f1_score, roc_auc_score\n",
    "\n",
    "# Use best parameters for optimizing Recall Rate\n",
    "best_params_recall = {'max_depth': 10, 'max_features': 'sqrt', 'min_samples_leaf': 1, 'min_samples_split': 5, 'n_estimators': 100}\n",
    "\n",
    "# Build the model\n",
    "model_recall = RandomForestClassifier(\n",
    "    max_depth=best_params_recall['max_depth'],\n",
    "    max_features=best_params_recall['max_features'],\n",
    "    min_samples_leaf=best_params_recall['min_samples_leaf'],\n",
    "    min_samples_split=best_params_recall['min_samples_split'],\n",
    "    n_estimators=best_params_recall['n_estimators'],\n",
    "    random_state=42,\n",
    "    class_weight='balanced'\n",
    ")\n",
    "\n",
    "# Train the model\n",
    "model_recall.fit(X_train, y_train)\n",
    "\n",
    "# Evaluate on the test set\n",
    "y_pred_recall = model_recall.predict(X_test)\n",
    "y_pred_proba_recall = model_recall.predict_proba(X_test)[:, 1]  # Get predicted probabilities for the positive class\n",
    "\n",
    "# Print classification report\n",
    "print(\"Classification Report:\")\n",
    "print(classification_report(y_test, y_pred_recall))\n",
    "\n",
    "# Compute and print comprehensive metrics\n",
    "accuracy = accuracy_score(y_test, y_pred_recall)\n",
    "precision = precision_score(y_test, y_pred_recall)\n",
    "recall = recall_score(y_test, y_pred_recall)\n",
    "f1 = f1_score(y_test, y_pred_recall)\n",
    "roc_auc = roc_auc_score(y_test, y_pred_proba_recall)\n",
    "\n",
    "print(\"\\nComprehensive Metrics:\")\n",
    "print(f\"Accuracy: {accuracy:.4f}\")\n",
    "print(f\"Precision: {precision:.4f}\")\n",
    "print(f\"Recall: {recall:.4f}\")\n",
    "print(f\"F1 Score: {f1:.4f}\")\n",
    "print(f\"ROC-AUC: {roc_auc:.4f}\")\n"
   ]
  },
  {
   "cell_type": "markdown",
   "metadata": {},
   "source": [
    "# XGBoost Model"
   ]
  },
  {
   "cell_type": "code",
   "execution_count": 18,
   "metadata": {},
   "outputs": [],
   "source": [
    "# Separate the target variable and features\n",
    "X = data[feature_list]  # Select feature columns based on feature_list\n",
    "y = data['HeartDisease']"
   ]
  },
  {
   "cell_type": "code",
   "execution_count": 19,
   "metadata": {},
   "outputs": [],
   "source": [
    "# Split the dataset into training and testing sets\n",
    "X_train, X_test, y_train, y_test = train_test_split(X, y, test_size=0.2, random_state=42, stratify=y)"
   ]
  },
  {
   "cell_type": "code",
   "execution_count": 20,
   "metadata": {},
   "outputs": [
    {
     "name": "stdout",
     "output_type": "stream",
     "text": [
      "Classification Report for Recall Rate Optimized Model:\n",
      "              precision    recall  f1-score   support\n",
      "\n",
      "           0       0.93      0.68      0.79        82\n",
      "           1       0.79      0.96      0.87       102\n",
      "\n",
      "    accuracy                           0.84       184\n",
      "   macro avg       0.86      0.82      0.83       184\n",
      "weighted avg       0.85      0.84      0.83       184\n",
      "\n",
      "\n",
      "Comprehensive Metrics:\n",
      "Accuracy: 0.8370\n",
      "Precision: 0.7903\n",
      "Recall: 0.9608\n",
      "F1 Score: 0.8673\n",
      "ROC-AUC: 0.9121\n"
     ]
    }
   ],
   "source": [
    "import xgboost as xgb\n",
    "from xgboost import XGBClassifier\n",
    "from sklearn.model_selection import train_test_split, GridSearchCV\n",
    "from sklearn.metrics import classification_report, f1_score\n",
    "from sklearn.metrics import accuracy_score, precision_score, recall_score, f1_score, roc_auc_score\n",
    "\n",
    "# Train the model using optimal parameters\n",
    "best_params = {\n",
    "    'colsample_bytree': 0.8,\n",
    "    'gamma': 0,\n",
    "    'learning_rate': 0.01,\n",
    "    'max_depth': 3,\n",
    "    'min_child_weight': 1,\n",
    "    'n_estimators': 50,\n",
    "    'reg_alpha': 0,\n",
    "    'reg_lambda': 10,\n",
    "    'scale_pos_weight': 1,\n",
    "    'subsample': 1.0\n",
    "}\n",
    "\n",
    "final_model = XGBClassifier(\n",
    "    objective='binary:logistic',\n",
    "    eval_metric='logloss',\n",
    "    random_state=42,\n",
    "    **best_params  # Unpack the best parameters\n",
    ")\n",
    "\n",
    "# Training model\n",
    "final_model.fit(X_train, y_train)\n",
    "\n",
    "# test model\n",
    "y_pred_recall = final_model.predict(X_test)\n",
    "y_pred_proba = final_model.predict_proba(X_test)[:, 1]\n",
    "\n",
    "# Output classification report\n",
    "print(\"Classification Report for Recall Rate Optimized Model:\")\n",
    "print(classification_report(y_test, y_pred_recall))\n",
    "\n",
    "# Calculate various indicators\n",
    "accuracy = accuracy_score(y_test, y_pred_recall)\n",
    "precision = precision_score(y_test, y_pred_recall)\n",
    "recall = recall_score(y_test, y_pred_recall)\n",
    "f1 = f1_score(y_test, y_pred_recall)\n",
    "roc_auc = roc_auc_score(y_test, y_pred_proba)\n",
    "\n",
    "# Output results\n",
    "print(\"\\nComprehensive Metrics:\")\n",
    "print(f\"Accuracy: {accuracy:.4f}\")\n",
    "print(f\"Precision: {precision:.4f}\")\n",
    "print(f\"Recall: {recall:.4f}\")\n",
    "print(f\"F1 Score: {f1:.4f}\")\n",
    "print(f\"ROC-AUC: {roc_auc:.4f}\")"
   ]
  },
  {
   "cell_type": "markdown",
   "metadata": {},
   "source": [
    "## SVM"
   ]
  },
  {
   "cell_type": "code",
   "execution_count": 21,
   "metadata": {},
   "outputs": [],
   "source": [
    "# Separate the target variable and features\n",
    "X = data[feature_list]  # Select feature columns based on feature_list\n",
    "y = data['HeartDisease']\n",
    "\n",
    "# Split the dataset into training and testing sets\n",
    "X_train, X_test, y_train, y_test = train_test_split(X, y, test_size=0.2, random_state=42, stratify=y)"
   ]
  },
  {
   "cell_type": "code",
   "execution_count": 22,
   "metadata": {},
   "outputs": [
    {
     "name": "stdout",
     "output_type": "stream",
     "text": [
      "Cross-Validation Recall Scores: [0.93902439 0.92592593 0.91358025 0.87654321 0.91358025]\n",
      "Mean Recall: 0.9137\n",
      "\n",
      "Model Evaluation Metrics on Test Set:\n",
      "Recall: 0.9314\n",
      "ROC-AUC: 0.9364\n",
      "F1-Score: 0.9135\n",
      "Accuracy: 0.9022\n",
      "Precision: 0.8962\n",
      "\n",
      "Classification Report:\n",
      "              precision    recall  f1-score   support\n",
      "\n",
      "           0       0.91      0.87      0.89        82\n",
      "           1       0.90      0.93      0.91       102\n",
      "\n",
      "    accuracy                           0.90       184\n",
      "   macro avg       0.90      0.90      0.90       184\n",
      "weighted avg       0.90      0.90      0.90       184\n",
      "\n"
     ]
    }
   ],
   "source": [
    "from sklearn.svm import SVC\n",
    "from sklearn.pipeline import make_pipeline\n",
    "from sklearn.model_selection import cross_val_score\n",
    "from sklearn.metrics import (\n",
    "    recall_score, roc_auc_score, f1_score,\n",
    "    accuracy_score, precision_score, classification_report\n",
    ")\n",
    "\n",
    "# Step 1: Define the SVM model with best parameters\n",
    "svm = SVC(\n",
    "    C=0.1,\n",
    "    class_weight=None,\n",
    "    coef0=0.1,\n",
    "    degree=3,\n",
    "    gamma='scale',\n",
    "    kernel='poly',\n",
    "    probability=True  # Required for ROC-AUC calculation\n",
    ")\n",
    "\n",
    "# Step 2: Create a pipeline with the SVM model\n",
    "pipeline = make_pipeline(svm)\n",
    "\n",
    "# Step 3: Evaluate using cross-validation (scoring by recall)\n",
    "cv_scores = cross_val_score(pipeline, X_train, y_train, cv=5, scoring='recall')\n",
    "print(f\"Cross-Validation Recall Scores: {cv_scores}\")\n",
    "print(f\"Mean Recall: {cv_scores.mean():.4f}\")\n",
    "\n",
    "# Step 4: Train the model on the training set\n",
    "pipeline.fit(X_train, y_train)\n",
    "\n",
    "# Step 5: Make predictions on the test set\n",
    "y_pred = pipeline.predict(X_test)\n",
    "y_pred_proba = pipeline.predict_proba(X_test)[:, 1]\n",
    "\n",
    "# Step 6: Compute evaluation metrics\n",
    "recall = recall_score(y_test, y_pred)\n",
    "roc_auc = roc_auc_score(y_test, y_pred_proba)\n",
    "f1 = f1_score(y_test, y_pred)\n",
    "accuracy = accuracy_score(y_test, y_pred)\n",
    "precision = precision_score(y_test, y_pred)\n",
    "\n",
    "print(\"\\nModel Evaluation Metrics on Test Set:\")\n",
    "print(f\"Recall: {recall:.4f}\")\n",
    "print(f\"ROC-AUC: {roc_auc:.4f}\")\n",
    "print(f\"F1-Score: {f1:.4f}\")\n",
    "print(f\"Accuracy: {accuracy:.4f}\")\n",
    "print(f\"Precision: {precision:.4f}\")\n",
    "\n",
    "# Step 7: Print the classification report\n",
    "print(\"\\nClassification Report:\")\n",
    "print(classification_report(y_test, y_pred))\n"
   ]
  },
  {
   "cell_type": "markdown",
   "metadata": {},
   "source": [
    "# Logistic regression"
   ]
  },
  {
   "cell_type": "code",
   "execution_count": 23,
   "metadata": {},
   "outputs": [],
   "source": [
    "# Separate the target variable and features\n",
    "X = data[feature_list]  # Select feature columns based on feature_list\n",
    "y = data['HeartDisease']\n",
    "\n",
    "# Split the dataset into training and testing sets\n",
    "X_train, X_test, y_train, y_test = train_test_split(\n",
    "    X, y, test_size=0.2, random_state=42, stratify=y\n",
    ")"
   ]
  },
  {
   "cell_type": "code",
   "execution_count": 24,
   "metadata": {},
   "outputs": [
    {
     "name": "stdout",
     "output_type": "stream",
     "text": [
      "\n",
      "Model Evaluation Metrics on Test Set:\n",
      "Recall: 0.9314\n",
      "ROC-AUC: 0.9302\n",
      "F1-Score: 0.9005\n",
      "Accuracy: 0.8859\n",
      "Precision: 0.8716\n",
      "\n",
      "Classification Report:\n",
      "              precision    recall  f1-score   support\n",
      "\n",
      "           0       0.91      0.83      0.87        82\n",
      "           1       0.87      0.93      0.90       102\n",
      "\n",
      "    accuracy                           0.89       184\n",
      "   macro avg       0.89      0.88      0.88       184\n",
      "weighted avg       0.89      0.89      0.89       184\n",
      "\n"
     ]
    }
   ],
   "source": [
    "from sklearn.linear_model import LogisticRegression\n",
    "from sklearn.metrics import (\n",
    "    recall_score, roc_auc_score, f1_score,\n",
    "    accuracy_score, precision_score, classification_report\n",
    ")\n",
    "from sklearn.model_selection import train_test_split\n",
    "\n",
    "\n",
    "# Step 1: Initialize Logistic Regression model\n",
    "logreg = LogisticRegression(\n",
    "    solver='liblinear',  # Good for small datasets or binary classification\n",
    "    random_state=42\n",
    ")\n",
    "\n",
    "# Step 2: Train the model\n",
    "logreg.fit(X_train, y_train)\n",
    "\n",
    "# Step 3: Predict on test set\n",
    "y_pred = logreg.predict(X_test)\n",
    "y_pred_proba = logreg.predict_proba(X_test)[:, 1]  # For ROC-AUC\n",
    "\n",
    "# Step 4: Compute evaluation metrics\n",
    "recall = recall_score(y_test, y_pred)\n",
    "roc_auc = roc_auc_score(y_test, y_pred_proba)\n",
    "f1 = f1_score(y_test, y_pred)\n",
    "accuracy = accuracy_score(y_test, y_pred)\n",
    "precision = precision_score(y_test, y_pred)\n",
    "\n",
    "print(\"\\nModel Evaluation Metrics on Test Set:\")\n",
    "print(f\"Recall: {recall:.4f}\")\n",
    "print(f\"ROC-AUC: {roc_auc:.4f}\")\n",
    "print(f\"F1-Score: {f1:.4f}\")\n",
    "print(f\"Accuracy: {accuracy:.4f}\")\n",
    "print(f\"Precision: {precision:.4f}\")\n",
    "\n",
    "# Step 5: Print the classification report\n",
    "print(\"\\nClassification Report:\")\n",
    "print(classification_report(y_test, y_pred))\n"
   ]
  },
  {
   "cell_type": "markdown",
   "metadata": {},
   "source": [
    "# Our MLOps Tool"
   ]
  },
  {
   "cell_type": "markdown",
   "metadata": {},
   "source": [
    "## Step 1  Package Experiment Results \n",
    "   \n",
    "Save your trained model (`model.pkl`), configuration (`config.json`), and evaluation metrics (`metrics.json`) into a versioned folder (e.g., `experiments/exp1/`).  \n",
    "\n",
    "This helps organize and track your model experiments easily.\n"
   ]
  },
  {
   "cell_type": "code",
   "execution_count": null,
   "metadata": {},
   "outputs": [
    {
     "name": "stderr",
     "output_type": "stream",
     "text": [
      "2025-04-10 15:11:01,036 - INFO - Saved model to experiments\\exp1\\model.pkl\n",
      "2025-04-10 15:11:01,038 - INFO - Evaluating model on test data...\n"
     ]
    },
    {
     "name": "stderr",
     "output_type": "stream",
     "text": [
      "2025-04-10 15:11:01,086 - INFO - Saved metrics to experiments\\exp1\\metrics.json\n",
      "2025-04-10 15:11:01,092 - INFO - Saved config to experiments\\exp1\\config.json\n",
      "2025-04-10 15:11:01,094 - INFO - Successfully packaged model in exp1\n",
      "2025-04-10 15:11:01,096 - INFO - config.json, metrics.json and model.pkl have been created\n",
      "2025-04-10 15:11:01,106 - INFO - Saved model to experiments\\exp2\\model.pkl\n",
      "2025-04-10 15:11:01,110 - INFO - Evaluating model on test data...\n",
      "2025-04-10 15:11:01,162 - INFO - Saved metrics to experiments\\exp2\\metrics.json\n",
      "2025-04-10 15:11:01,167 - INFO - Saved config to experiments\\exp2\\config.json\n",
      "2025-04-10 15:11:01,169 - INFO - Successfully packaged model in exp2\n",
      "2025-04-10 15:11:01,177 - INFO - config.json, metrics.json and model.pkl have been created\n",
      "2025-04-10 15:11:01,183 - INFO - Saved model to experiments\\exp3\\model.pkl\n",
      "2025-04-10 15:11:01,185 - INFO - Evaluating model on test data...\n",
      "2025-04-10 15:11:01,216 - INFO - Saved metrics to experiments\\exp3\\metrics.json\n",
      "2025-04-10 15:11:01,220 - INFO - Saved config to experiments\\exp3\\config.json\n",
      "2025-04-10 15:11:01,222 - INFO - Successfully packaged model in exp3\n",
      "2025-04-10 15:11:01,223 - INFO - config.json, metrics.json and model.pkl have been created\n",
      "2025-04-10 15:11:01,233 - INFO - Saved model to experiments\\exp4\\model.pkl\n",
      "2025-04-10 15:11:01,236 - INFO - Evaluating model on test data...\n",
      "2025-04-10 15:11:01,254 - INFO - Saved metrics to experiments\\exp4\\metrics.json\n",
      "2025-04-10 15:11:01,257 - INFO - Saved config to experiments\\exp4\\config.json\n",
      "2025-04-10 15:11:01,259 - INFO - Successfully packaged model in exp4\n",
      "2025-04-10 15:11:01,261 - INFO - config.json, metrics.json and model.pkl have been created\n"
     ]
    },
    {
     "data": {
      "text/plain": [
       "'experiments\\\\exp4'"
      ]
     },
     "execution_count": 36,
     "metadata": {},
     "output_type": "execute_result"
    }
   ],
   "source": [
    "\n",
    "\n",
    "from scripts.package_results import package_results\n",
    "\n",
    "# For RandomForest model\n",
    "from scripts.package_results import package_results\n",
    "package_results(model_recall, X_test, y_test, dataset_name=\"random_forest_heart\")\n",
    "\n",
    "# For XGBoost model\n",
    "package_results(final_model, X_test, y_test, dataset_name=\"xgboost_heart\")\n",
    "\n",
    "# For SVM model (extract the SVM from the pipeline)\n",
    "svm_model = pipeline.named_steps['svc']  \n",
    "package_results(svm_model, X_test, y_test, dataset_name=\"svm_heart\")\n",
    "\n",
    "# For Logistic Regression model\n",
    "package_results(logreg, X_test, y_test, dataset_name=\"logreg_heart\")"
   ]
  },
  {
   "cell_type": "markdown",
   "metadata": {},
   "source": [
    "## Step2  Compare Multiple Experiments\n",
    "\n",
    "Load and visualize results from all experiments, compare evaluation metrics (e.g., accuracy, F1-score), and get automatic recommendations on the best-performing model."
   ]
  },
  {
   "cell_type": "code",
   "execution_count": null,
   "metadata": {},
   "outputs": [],
   "source": [
    "from scripts.compare_metrics import run_compare_metrics \n"
   ]
  },
  {
   "cell_type": "code",
   "execution_count": 39,
   "metadata": {},
   "outputs": [
    {
     "name": "stdout",
     "output_type": "stream",
     "text": [
      "\n",
      "Metrics Comparison:\n",
      "      accuracy  f1_score  precision    recall     confusion_matrix  loss  \\\n",
      "exp1  0.902174  0.901714   0.903223  0.902174  [[70, 12], [6, 96]]   0.0   \n",
      "exp2  0.836957  0.832262   0.854056  0.836957  [[56, 26], [4, 98]]   0.0   \n",
      "exp3  0.902174  0.901892   0.902479  0.902174  [[71, 11], [7, 95]]   0.0   \n",
      "exp4  0.885870  0.885218   0.887205  0.885870  [[68, 14], [7, 95]]   0.0   \n",
      "\n",
      "                       timestamp  \n",
      "exp1  2025-04-10T15:11:01.084072  \n",
      "exp2  2025-04-10T15:11:01.161628  \n",
      "exp3  2025-04-10T15:11:01.213639  \n",
      "exp4  2025-04-10T15:11:01.253173  \n",
      "\n",
      "\n",
      "\n",
      "Recommendations:\n",
      "- exp1: Good performance (accuracy: 0.9022) (BEST MODEL)\n",
      "- exp2: Average performance (accuracy: 0.8370)\n",
      "- exp3: Good performance (accuracy: 0.9022)\n",
      "- exp4: Average performance (accuracy: 0.8859)\n",
      "- summary: RECOMMENDATION: Model 'exp1' is the best performer with accuracy = 0.9022\n"
     ]
    },
    {
     "data": {
      "image/png": "[encoded data removed]",
      "text/plain": [
       "<Figure size 1000x600 with 1 Axes>"
      ]
     },
     "metadata": {},
     "output_type": "display_data"
    }
   ],
   "source": [
    "metrics_df_acc, recommendations_acc, fig_acc = run_compare_metrics(\n",
    "    metrics_dir=\"experiments\",\n",
    "    configs_dir=\"experiments\",\n",
    "    save_path=None,                   \n",
    "    priority_metric=\"accuracy\"       # Specify the priority_metricd as accuracy\n",
    ")\n"
   ]
  },
  {
   "cell_type": "code",
   "execution_count": 40,
   "metadata": {},
   "outputs": [
    {
     "name": "stdout",
     "output_type": "stream",
     "text": [
      "\n",
      "Metrics Comparison:\n",
      "      accuracy  f1_score  precision    recall     confusion_matrix  loss  \\\n",
      "exp1  0.902174  0.901714   0.903223  0.902174  [[70, 12], [6, 96]]   0.0   \n",
      "exp2  0.836957  0.832262   0.854056  0.836957  [[56, 26], [4, 98]]   0.0   \n",
      "exp3  0.902174  0.901892   0.902479  0.902174  [[71, 11], [7, 95]]   0.0   \n",
      "exp4  0.885870  0.885218   0.887205  0.885870  [[68, 14], [7, 95]]   0.0   \n",
      "\n",
      "                       timestamp  \n",
      "exp1  2025-04-10T15:11:01.084072  \n",
      "exp2  2025-04-10T15:11:01.161628  \n",
      "exp3  2025-04-10T15:11:01.213639  \n",
      "exp4  2025-04-10T15:11:01.253173  \n",
      "\n",
      "\n",
      "\n",
      "Recommendations:\n",
      "- exp1: Good performance (f1_score: 0.9017)\n",
      "- exp2: Average performance (f1_score: 0.8323)\n",
      "- exp3: Good performance (f1_score: 0.9019) (BEST MODEL)\n",
      "- exp4: Average performance (f1_score: 0.8852)\n",
      "- summary: RECOMMENDATION: Model 'exp3' is the best performer with f1_score = 0.9019\n"
     ]
    },
    {
     "data": {
      "image/png": "[encoded data removed]",
      "text/plain": [
       "<Figure size 1000x600 with 1 Axes>"
      ]
     },
     "metadata": {},
     "output_type": "display_data"
    }
   ],
   "source": [
    "metrics_df_f1, recommendations_f1, fig_f1 = run_compare_metrics(\n",
    "    metrics_dir=\"experiments\",\n",
    "    configs_dir=\"experiments\",\n",
    "    save_path=None,                   \n",
    "    priority_metric=\"f1_score\"   # Specify the priority_metricd as f1_score   \n",
    ")\n"
   ]
  },
  {
   "cell_type": "markdown",
   "metadata": {},
   "source": [
    "## Step3 Launch Streamlit Dashboard\n",
    "\n",
    "Launch an interactive dashboard to view experiment results, metric charts, and system recommendations — all in your browser."
   ]
  },
  {
   "cell_type": "code",
   "execution_count": null,
   "metadata": {},
   "outputs": [],
   "source": [
    "from scripts.run_dashboard import run_dashboard_ui"
   ]
  },
  {
   "cell_type": "code",
   "execution_count": 28,
   "metadata": {},
   "outputs": [],
   "source": [
    "run_dashboard_ui()"
   ]
  }
 ],
 "metadata": {
  "kernelspec": {
   "display_name": "Python 3",
   "language": "python",
   "name": "python3"
  },
  "language_info": {
   "codemirror_mode": {
    "name": "ipython",
    "version": 3
   },
   "file_extension": ".py",
   "mimetype": "text/x-python",
   "name": "python",
   "nbconvert_exporter": "python",
   "pygments_lexer": "ipython3",
   "version": "3.11.5"
  }
 },
 "nbformat": 4,
 "nbformat_minor": 2
}
